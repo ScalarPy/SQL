{
 "cells": [
  {
   "cell_type": "code",
   "execution_count": 1,
   "metadata": {
    "id": "s4qNlNvlkk_R"
   },
   "outputs": [],
   "source": [
    "import mysql.connector as m"
   ]
  },
  {
   "cell_type": "code",
   "execution_count": 2,
   "metadata": {
    "id": "D55LoTjKkk_V"
   },
   "outputs": [],
   "source": [
    "#Connecting to Database Server\n",
    "#host -- url/ip-address\n",
    "my_con = m.connect(host = \"localhost\", user = \"root\", password = \"123456\", port = 3306)"
   ]
  },
  {
   "cell_type": "code",
   "execution_count": 3,
   "metadata": {
    "id": "LZBzC3uKkk_W",
    "outputId": "e9348b6a-1815-43e4-ee25-40e7fb23c89c"
   },
   "outputs": [
    {
     "data": {
      "text/plain": [
       "<mysql.connector.connection_cext.CMySQLConnection at 0x1f6b0fe8a08>"
      ]
     },
     "execution_count": 3,
     "metadata": {},
     "output_type": "execute_result"
    }
   ],
   "source": [
    "my_con"
   ]
  },
  {
   "cell_type": "code",
   "execution_count": 4,
   "metadata": {
    "id": "7MrJALC4kk_X"
   },
   "outputs": [],
   "source": [
    "#Cursor---To excecute SQL Queries\n",
    "my_cur = my_con.cursor()"
   ]
  },
  {
   "cell_type": "code",
   "execution_count": 5,
   "metadata": {
    "id": "uWcfaQZ8kk_Y",
    "outputId": "b09d6b86-d4b4-4037-fd70-6a6aa1f2b356",
    "scrolled": true
   },
   "outputs": [
    {
     "data": {
      "text/plain": [
       "<mysql.connector.cursor_cext.CMySQLCursor at 0x1f6b0ff5e08>"
      ]
     },
     "execution_count": 5,
     "metadata": {},
     "output_type": "execute_result"
    }
   ],
   "source": [
    "my_cur"
   ]
  },
  {
   "cell_type": "markdown",
   "metadata": {},
   "source": [
    "#### Show databases"
   ]
  },
  {
   "cell_type": "code",
   "execution_count": 6,
   "metadata": {},
   "outputs": [],
   "source": [
    "my_cur.execute(\"show databases\")"
   ]
  },
  {
   "cell_type": "code",
   "execution_count": 7,
   "metadata": {},
   "outputs": [
    {
     "data": {
      "text/plain": [
       "[('information_schema',),\n",
       " ('mydb',),\n",
       " ('mysql',),\n",
       " ('performance_schema',),\n",
       " ('sakila',),\n",
       " ('sys',),\n",
       " ('world',)]"
      ]
     },
     "execution_count": 7,
     "metadata": {},
     "output_type": "execute_result"
    }
   ],
   "source": [
    "#read operation\n",
    "my_cur.fetchall()"
   ]
  },
  {
   "cell_type": "markdown",
   "metadata": {
    "id": "bXm76gvRkk_Y"
   },
   "source": [
    "#### Creating a database"
   ]
  },
  {
   "cell_type": "code",
   "execution_count": 110,
   "metadata": {
    "id": "JIVmn6Okkk_a"
   },
   "outputs": [],
   "source": [
    "#execute --SQL Query\n",
    "my_cur.execute(\"create database mydb\")"
   ]
  },
  {
   "cell_type": "markdown",
   "metadata": {
    "id": "zq8CKpFdkk_b"
   },
   "source": [
    "#### Show Databases"
   ]
  },
  {
   "cell_type": "code",
   "execution_count": 111,
   "metadata": {
    "id": "WgMpG1cxkk_b"
   },
   "outputs": [],
   "source": [
    "#Read query\n",
    "my_cur.execute(\"show databases\")"
   ]
  },
  {
   "cell_type": "code",
   "execution_count": 112,
   "metadata": {
    "id": "So5XXMl4kk_c",
    "outputId": "ccff7314-a863-44ae-d4bf-9a7681af7547"
   },
   "outputs": [
    {
     "data": {
      "text/plain": [
       "[('information_schema',),\n",
       " ('mydb',),\n",
       " ('mysql',),\n",
       " ('performance_schema',),\n",
       " ('sakila',),\n",
       " ('sys',),\n",
       " ('world',)]"
      ]
     },
     "execution_count": 112,
     "metadata": {},
     "output_type": "execute_result"
    }
   ],
   "source": [
    "my_cur.fetchall()"
   ]
  },
  {
   "cell_type": "markdown",
   "metadata": {
    "id": "_YB8h84dkk_c"
   },
   "source": [
    "#### Create a Table"
   ]
  },
  {
   "cell_type": "code",
   "execution_count": 8,
   "metadata": {
    "id": "FW3afNyZkk_d"
   },
   "outputs": [],
   "source": [
    "#Connecting to specific Database\n",
    "my_con = m.connect(host = \"localhost\",user = \"root\", password = \"123456\", port=3306, database = \"mydb\")"
   ]
  },
  {
   "cell_type": "code",
   "execution_count": 9,
   "metadata": {
    "id": "IMd5-4djkk_d"
   },
   "outputs": [],
   "source": [
    "my_cur = my_con.cursor()"
   ]
  },
  {
   "cell_type": "code",
   "execution_count": null,
   "metadata": {},
   "outputs": [],
   "source": [
    "#create a table"
   ]
  },
  {
   "cell_type": "code",
   "execution_count": 115,
   "metadata": {
    "id": "fq_OETJfkk_e"
   },
   "outputs": [],
   "source": [
    "my_cur.execute(\"create table employee_data (emp_id int,emp_name varchar(100),emp_salary float,married_status boolean,emp_blood_group text)\")"
   ]
  },
  {
   "cell_type": "code",
   "execution_count": 116,
   "metadata": {},
   "outputs": [],
   "source": [
    "my_cur.execute(\"show tables\")"
   ]
  },
  {
   "cell_type": "code",
   "execution_count": 117,
   "metadata": {},
   "outputs": [
    {
     "data": {
      "text/plain": [
       "[('employee_data',)]"
      ]
     },
     "execution_count": 117,
     "metadata": {},
     "output_type": "execute_result"
    }
   ],
   "source": [
    "my_cur.fetchall()"
   ]
  },
  {
   "cell_type": "markdown",
   "metadata": {
    "id": "b94uuWB0kk_e"
   },
   "source": [
    "#### Insert Data into table"
   ]
  },
  {
   "cell_type": "code",
   "execution_count": 118,
   "metadata": {
    "id": "-yH6ezJCkk_e"
   },
   "outputs": [],
   "source": [
    "my_cur.execute(\"insert into employee_data (emp_id,emp_name,emp_salary,married_status,emp_blood_group) values (1,'Abhishek',60000.50,False,'O+')\")"
   ]
  },
  {
   "cell_type": "markdown",
   "metadata": {
    "id": "IroUcG_Wkk_i"
   },
   "source": [
    "#### Read data from table"
   ]
  },
  {
   "cell_type": "code",
   "execution_count": 119,
   "metadata": {
    "id": "FQI_EYhkkk_i"
   },
   "outputs": [],
   "source": [
    "my_cur.execute(\"select * from employee_data\")"
   ]
  },
  {
   "cell_type": "code",
   "execution_count": 120,
   "metadata": {
    "id": "r3jqFOvrkk_i",
    "outputId": "d1baa9ba-815c-49ad-89b5-eea29866bc11"
   },
   "outputs": [
    {
     "data": {
      "text/plain": [
       "[(1, 'Abhishek', 60000.5, 0, 'O+')]"
      ]
     },
     "execution_count": 120,
     "metadata": {},
     "output_type": "execute_result"
    }
   ],
   "source": [
    "my_cur.fetchall()"
   ]
  },
  {
   "cell_type": "markdown",
   "metadata": {},
   "source": [
    "#### Insert multiple rows"
   ]
  },
  {
   "cell_type": "code",
   "execution_count": 122,
   "metadata": {},
   "outputs": [],
   "source": [
    "val = [(20,\"Ajay\",40000.0,False,'B+'),(30,\"Ramu\",30000.0,True,'A+'),\n",
    "       (40,\"Ramesh\",10000.0,False,'B-'),(50,\"Rahul\",25000.0,False,'B+'),\n",
    "      (60,\"Suresh\",50000.0,True,'A+'),(60,\"Rajesh\",60000.0,False,'O+')]"
   ]
  },
  {
   "cell_type": "code",
   "execution_count": 123,
   "metadata": {},
   "outputs": [
    {
     "data": {
      "text/plain": [
       "[(20, 'Ajay', 40000.0, False, 'B+'),\n",
       " (30, 'Ramu', 30000.0, True, 'A+'),\n",
       " (40, 'Ramesh', 10000.0, False, 'B-'),\n",
       " (50, 'Rahul', 25000.0, False, 'B+'),\n",
       " (60, 'Suresh', 50000.0, True, 'A+'),\n",
       " (60, 'Rajesh', 60000.0, False, 'O+')]"
      ]
     },
     "execution_count": 123,
     "metadata": {},
     "output_type": "execute_result"
    }
   ],
   "source": [
    "val"
   ]
  },
  {
   "cell_type": "code",
   "execution_count": 124,
   "metadata": {},
   "outputs": [],
   "source": [
    "sql = \"insert into employee_data (emp_id, emp_name, emp_salary, married_status, emp_blood_group) values (%s, %s, %s, %s, %s)\""
   ]
  },
  {
   "cell_type": "code",
   "execution_count": 125,
   "metadata": {},
   "outputs": [],
   "source": [
    "my_cur.executemany(sql,val)"
   ]
  },
  {
   "cell_type": "code",
   "execution_count": 11,
   "metadata": {},
   "outputs": [
    {
     "data": {
      "text/plain": [
       "[(1, 'Abhishek', 60000.5, 0, 'O+'),\n",
       " (20, 'Ajay', 40000.0, 0, 'B+'),\n",
       " (30, 'Ramu', 30000.0, 1, 'A+'),\n",
       " (40, 'Ramesh', 10000.0, 0, 'B-'),\n",
       " (50, 'Rahul', 25000.0, 0, 'B+'),\n",
       " (60, 'Suresh', 50000.0, 1, 'A+'),\n",
       " (60, 'Rajesh', 60000.0, 0, 'O+')]"
      ]
     },
     "execution_count": 11,
     "metadata": {},
     "output_type": "execute_result"
    }
   ],
   "source": [
    "my_cur.execute(\"select * from employee_data\")\n",
    "my_cur.fetchall()"
   ]
  },
  {
   "cell_type": "markdown",
   "metadata": {
    "id": "2lKjG9D2kk_f"
   },
   "source": [
    "#### Create Table with Constraints"
   ]
  },
  {
   "cell_type": "code",
   "execution_count": 127,
   "metadata": {
    "id": "s0bYgBW0kk_f"
   },
   "outputs": [],
   "source": [
    "my_cur.execute(\"create table employee_data_2 (emp_id int,primary key (emp_id),emp_name text not null,emp_salary float,married_status boolean,emp_blood_group text)\")"
   ]
  },
  {
   "cell_type": "markdown",
   "metadata": {
    "id": "6tEkP_pBkk_f"
   },
   "source": [
    "#### Insert Data with Constraints"
   ]
  },
  {
   "cell_type": "code",
   "execution_count": 12,
   "metadata": {},
   "outputs": [],
   "source": [
    "val = [(20,\"Ajay\",40000.0,False,'B+'),(30,\"Ramu\",30000.0,True,'A+'),\n",
    "       (40,\"Ramesh\",10000.0,False,'B-'),(50,\"Rahul\",25000.0,False,'B+'),\n",
    "      (60,\"Suresh\",50000.0,True,'A+'),(61,\"Rajesh\",60000.0,False,'O+')]"
   ]
  },
  {
   "cell_type": "code",
   "execution_count": 13,
   "metadata": {},
   "outputs": [
    {
     "data": {
      "text/plain": [
       "[(20, 'Ajay', 40000.0, False, 'B+'),\n",
       " (30, 'Ramu', 30000.0, True, 'A+'),\n",
       " (40, 'Ramesh', 10000.0, False, 'B-'),\n",
       " (50, 'Rahul', 25000.0, False, 'B+'),\n",
       " (60, 'Suresh', 50000.0, True, 'A+'),\n",
       " (61, 'Rajesh', 60000.0, False, 'O+')]"
      ]
     },
     "execution_count": 13,
     "metadata": {},
     "output_type": "execute_result"
    }
   ],
   "source": [
    "val"
   ]
  },
  {
   "cell_type": "code",
   "execution_count": 14,
   "metadata": {},
   "outputs": [],
   "source": [
    "sql=\"insert into employee_data_2 (emp_id, emp_name, emp_salary, married_status, emp_blood_group) values (%s, %s, %s, %s, %s)\""
   ]
  },
  {
   "cell_type": "code",
   "execution_count": 15,
   "metadata": {},
   "outputs": [],
   "source": [
    "my_cur.executemany(sql,val)"
   ]
  },
  {
   "cell_type": "code",
   "execution_count": 16,
   "metadata": {
    "scrolled": false
   },
   "outputs": [
    {
     "data": {
      "text/plain": [
       "[(20, 'Ajay', 40000.0, 0, 'B+'),\n",
       " (30, 'Ramu', 30000.0, 1, 'A+'),\n",
       " (40, 'Ramesh', 10000.0, 0, 'B-'),\n",
       " (50, 'Rahul', 25000.0, 0, 'B+'),\n",
       " (60, 'Suresh', 50000.0, 1, 'A+'),\n",
       " (61, 'Rajesh', 60000.0, 0, 'O+')]"
      ]
     },
     "execution_count": 16,
     "metadata": {},
     "output_type": "execute_result"
    }
   ],
   "source": [
    "my_cur.execute(\"select * from employee_data_2\")\n",
    "my_cur.fetchall()"
   ]
  },
  {
   "cell_type": "code",
   "execution_count": 21,
   "metadata": {},
   "outputs": [],
   "source": [
    "my_cur.execute(\"select emp_name, emp_blood_group from employee_data_2\")"
   ]
  },
  {
   "cell_type": "code",
   "execution_count": 22,
   "metadata": {},
   "outputs": [
    {
     "data": {
      "text/plain": [
       "[('Ajay', 'B+'),\n",
       " ('Ramu', 'A+'),\n",
       " ('Ramesh', 'B-'),\n",
       " ('Rahul', 'B+'),\n",
       " ('Suresh', 'A+'),\n",
       " ('Rajesh', 'O+')]"
      ]
     },
     "execution_count": 22,
     "metadata": {},
     "output_type": "execute_result"
    }
   ],
   "source": [
    "my_cur.fetchall()"
   ]
  },
  {
   "cell_type": "code",
   "execution_count": 23,
   "metadata": {},
   "outputs": [],
   "source": [
    "def show_data(table_name, cursor):\n",
    "    cursor.execute(\"select * from \" + table_name)\n",
    "    return cursor.fetchall()"
   ]
  },
  {
   "cell_type": "code",
   "execution_count": 24,
   "metadata": {},
   "outputs": [
    {
     "data": {
      "text/plain": [
       "[(1, 'Abhishek', 60000.5, 0, 'O+'),\n",
       " (20, 'Ajay', 40000.0, 0, 'B+'),\n",
       " (30, 'Ramu', 30000.0, 1, 'A+'),\n",
       " (40, 'Ramesh', 10000.0, 0, 'B-'),\n",
       " (50, 'Rahul', 25000.0, 0, 'B+'),\n",
       " (60, 'Suresh', 50000.0, 1, 'A+'),\n",
       " (60, 'Rajesh', 60000.0, 0, 'O+')]"
      ]
     },
     "execution_count": 24,
     "metadata": {},
     "output_type": "execute_result"
    }
   ],
   "source": [
    "show_data(\"employee_data\", my_cur)"
   ]
  },
  {
   "cell_type": "markdown",
   "metadata": {},
   "source": [
    "#### Where condition"
   ]
  },
  {
   "cell_type": "code",
   "execution_count": 25,
   "metadata": {
    "id": "wZPYFM4Pkk_j"
   },
   "outputs": [],
   "source": [
    "my_cur.execute(\"select * from employee_data where emp_id=20\")"
   ]
  },
  {
   "cell_type": "code",
   "execution_count": 26,
   "metadata": {
    "id": "ty4YjwZ9kk_j",
    "outputId": "df46b823-6605-4bd5-f57c-98485b6ed80c",
    "scrolled": true
   },
   "outputs": [
    {
     "data": {
      "text/plain": [
       "[(20, 'Ajay', 40000.0, 0, 'B+')]"
      ]
     },
     "execution_count": 26,
     "metadata": {},
     "output_type": "execute_result"
    }
   ],
   "source": [
    "my_cur.fetchall()"
   ]
  },
  {
   "cell_type": "code",
   "execution_count": 28,
   "metadata": {},
   "outputs": [
    {
     "data": {
      "text/plain": [
       "[(1, 'Abhishek'), (20, 'Ajay'), (60, 'Suresh'), (60, 'Rajesh')]"
      ]
     },
     "execution_count": 28,
     "metadata": {},
     "output_type": "execute_result"
    }
   ],
   "source": [
    "my_cur.execute(\"select emp_id,emp_name from employee_data where emp_salary>30000\")\n",
    "my_cur.fetchall()"
   ]
  },
  {
   "cell_type": "code",
   "execution_count": 29,
   "metadata": {},
   "outputs": [
    {
     "data": {
      "text/plain": [
       "[(60, 'Suresh')]"
      ]
     },
     "execution_count": 29,
     "metadata": {},
     "output_type": "execute_result"
    }
   ],
   "source": [
    "my_cur.execute(\"select emp_id,emp_name from employee_data where emp_salary>30000 and married_status=True\")\n",
    "my_cur.fetchall()"
   ]
  },
  {
   "cell_type": "code",
   "execution_count": 30,
   "metadata": {},
   "outputs": [
    {
     "data": {
      "text/plain": [
       "[(1, 'Abhishek'), (30, 'Ramu'), (60, 'Suresh'), (60, 'Rajesh')]"
      ]
     },
     "execution_count": 30,
     "metadata": {},
     "output_type": "execute_result"
    }
   ],
   "source": [
    "my_cur.execute(\"select emp_id,emp_name from employee_data where emp_blood_group='O+' or emp_blood_group='A+'\")\n",
    "my_cur.fetchall()"
   ]
  },
  {
   "cell_type": "markdown",
   "metadata": {},
   "source": [
    "#### Order by"
   ]
  },
  {
   "cell_type": "code",
   "execution_count": 35,
   "metadata": {
    "id": "XtY40qP9kk_l",
    "outputId": "a4f0507a-42fd-4c2a-8ee0-1299affcd340"
   },
   "outputs": [],
   "source": [
    "my_cur.execute(\"select * from employee_data order by emp_salary desc\")"
   ]
  },
  {
   "cell_type": "code",
   "execution_count": 36,
   "metadata": {},
   "outputs": [
    {
     "data": {
      "text/plain": [
       "[(1, 'Abhishek', 60000.5, 0, 'O+'),\n",
       " (60, 'Rajesh', 60000.0, 0, 'O+'),\n",
       " (60, 'Suresh', 50000.0, 1, 'A+'),\n",
       " (20, 'Ajay', 40000.0, 0, 'B+'),\n",
       " (30, 'Ramu', 30000.0, 1, 'A+'),\n",
       " (50, 'Rahul', 25000.0, 0, 'B+'),\n",
       " (40, 'Ramesh', 10000.0, 0, 'B-')]"
      ]
     },
     "execution_count": 36,
     "metadata": {},
     "output_type": "execute_result"
    }
   ],
   "source": [
    "my_cur.fetchall()"
   ]
  },
  {
   "cell_type": "code",
   "execution_count": 39,
   "metadata": {},
   "outputs": [],
   "source": [
    "my_cur.execute(\"select * from employee_data order by emp_salary desc limit 4\")"
   ]
  },
  {
   "cell_type": "code",
   "execution_count": 40,
   "metadata": {},
   "outputs": [
    {
     "data": {
      "text/plain": [
       "[(1, 'Abhishek', 60000.5, 0, 'O+'),\n",
       " (60, 'Rajesh', 60000.0, 0, 'O+'),\n",
       " (60, 'Suresh', 50000.0, 1, 'A+'),\n",
       " (20, 'Ajay', 40000.0, 0, 'B+')]"
      ]
     },
     "execution_count": 40,
     "metadata": {},
     "output_type": "execute_result"
    }
   ],
   "source": [
    "my_cur.fetchall()"
   ]
  },
  {
   "cell_type": "code",
   "execution_count": 41,
   "metadata": {
    "id": "SONYnvjJkk_l"
   },
   "outputs": [],
   "source": [
    "my_cur.execute(\"select sum(emp_salary) from employee_data\")"
   ]
  },
  {
   "cell_type": "code",
   "execution_count": 42,
   "metadata": {
    "id": "voDlDBaKkk_m",
    "outputId": "6da6e529-1790-48cc-cea4-c762f1191609"
   },
   "outputs": [
    {
     "data": {
      "text/plain": [
       "[(275000.5,)]"
      ]
     },
     "execution_count": 42,
     "metadata": {},
     "output_type": "execute_result"
    }
   ],
   "source": [
    "my_cur.fetchall()"
   ]
  },
  {
   "cell_type": "code",
   "execution_count": 45,
   "metadata": {},
   "outputs": [],
   "source": [
    "my_cur.execute(\"select sum(emp_salary), avg(emp_salary) from employee_data\")"
   ]
  },
  {
   "cell_type": "code",
   "execution_count": 46,
   "metadata": {},
   "outputs": [
    {
     "data": {
      "text/plain": [
       "[(275000.5, 39285.78571428572)]"
      ]
     },
     "execution_count": 46,
     "metadata": {},
     "output_type": "execute_result"
    }
   ],
   "source": [
    "my_cur.fetchall()"
   ]
  },
  {
   "cell_type": "code",
   "execution_count": 47,
   "metadata": {},
   "outputs": [],
   "source": [
    "my_cur.execute(\"select count(emp_id) from employee_data\")"
   ]
  },
  {
   "cell_type": "code",
   "execution_count": 48,
   "metadata": {
    "scrolled": true
   },
   "outputs": [
    {
     "data": {
      "text/plain": [
       "[(7,)]"
      ]
     },
     "execution_count": 48,
     "metadata": {},
     "output_type": "execute_result"
    }
   ],
   "source": [
    "my_cur.fetchall()"
   ]
  },
  {
   "cell_type": "code",
   "execution_count": 49,
   "metadata": {},
   "outputs": [
    {
     "data": {
      "text/plain": [
       "[(1, 'Abhishek', 60000.5, 0, 'O+'),\n",
       " (20, 'Ajay', 40000.0, 0, 'B+'),\n",
       " (30, 'Ramu', 30000.0, 1, 'A+'),\n",
       " (40, 'Ramesh', 10000.0, 0, 'B-'),\n",
       " (50, 'Rahul', 25000.0, 0, 'B+'),\n",
       " (60, 'Suresh', 50000.0, 1, 'A+'),\n",
       " (60, 'Rajesh', 60000.0, 0, 'O+')]"
      ]
     },
     "execution_count": 49,
     "metadata": {},
     "output_type": "execute_result"
    }
   ],
   "source": [
    "show_data(\"employee_data\", my_cur)"
   ]
  },
  {
   "cell_type": "markdown",
   "metadata": {
    "id": "fHphVBOYkk_m"
   },
   "source": [
    "#### Update Data in Table"
   ]
  },
  {
   "cell_type": "code",
   "execution_count": 50,
   "metadata": {
    "id": "Gd8AI4yikk_m"
   },
   "outputs": [],
   "source": [
    "my_cur.execute(\"update employee_data set emp_salary=70000 where emp_id=20\")"
   ]
  },
  {
   "cell_type": "code",
   "execution_count": 51,
   "metadata": {},
   "outputs": [
    {
     "data": {
      "text/plain": [
       "[(1, 'Abhishek', 60000.5, 0, 'O+'),\n",
       " (20, 'Ajay', 70000.0, 0, 'B+'),\n",
       " (30, 'Ramu', 30000.0, 1, 'A+'),\n",
       " (40, 'Ramesh', 10000.0, 0, 'B-'),\n",
       " (50, 'Rahul', 25000.0, 0, 'B+'),\n",
       " (60, 'Suresh', 50000.0, 1, 'A+'),\n",
       " (60, 'Rajesh', 60000.0, 0, 'O+')]"
      ]
     },
     "execution_count": 51,
     "metadata": {},
     "output_type": "execute_result"
    }
   ],
   "source": [
    "show_data(\"employee_data\", my_cur)"
   ]
  },
  {
   "cell_type": "code",
   "execution_count": 52,
   "metadata": {},
   "outputs": [],
   "source": [
    "my_cur.execute(\"update employee_data set married_status=True,emp_salary=50000 where emp_id=50\")"
   ]
  },
  {
   "cell_type": "code",
   "execution_count": 53,
   "metadata": {},
   "outputs": [
    {
     "data": {
      "text/plain": [
       "[(1, 'Abhishek', 60000.5, 0, 'O+'),\n",
       " (20, 'Ajay', 70000.0, 0, 'B+'),\n",
       " (30, 'Ramu', 30000.0, 1, 'A+'),\n",
       " (40, 'Ramesh', 10000.0, 0, 'B-'),\n",
       " (50, 'Rahul', 50000.0, 1, 'B+'),\n",
       " (60, 'Suresh', 50000.0, 1, 'A+'),\n",
       " (60, 'Rajesh', 60000.0, 0, 'O+')]"
      ]
     },
     "execution_count": 53,
     "metadata": {},
     "output_type": "execute_result"
    }
   ],
   "source": [
    "show_data(\"employee_data\", my_cur)"
   ]
  },
  {
   "cell_type": "markdown",
   "metadata": {
    "id": "NQnL8Bfckk_m"
   },
   "source": [
    "#### Delete Data from the Table"
   ]
  },
  {
   "cell_type": "code",
   "execution_count": 54,
   "metadata": {
    "id": "XJPbxW2_kk_m"
   },
   "outputs": [],
   "source": [
    "my_cur.execute(\"delete from employee_data where emp_id=20\")"
   ]
  },
  {
   "cell_type": "code",
   "execution_count": 55,
   "metadata": {},
   "outputs": [
    {
     "data": {
      "text/plain": [
       "[(1, 'Abhishek', 60000.5, 0, 'O+'),\n",
       " (30, 'Ramu', 30000.0, 1, 'A+'),\n",
       " (40, 'Ramesh', 10000.0, 0, 'B-'),\n",
       " (50, 'Rahul', 50000.0, 1, 'B+'),\n",
       " (60, 'Suresh', 50000.0, 1, 'A+'),\n",
       " (60, 'Rajesh', 60000.0, 0, 'O+')]"
      ]
     },
     "execution_count": 55,
     "metadata": {},
     "output_type": "execute_result"
    }
   ],
   "source": [
    "show_data(\"employee_data\", my_cur)"
   ]
  },
  {
   "cell_type": "code",
   "execution_count": 56,
   "metadata": {},
   "outputs": [],
   "source": [
    "my_cur.execute(\"delete from employee_data where emp_id=60 and emp_name='Rajesh'\")"
   ]
  },
  {
   "cell_type": "code",
   "execution_count": 57,
   "metadata": {},
   "outputs": [
    {
     "data": {
      "text/plain": [
       "[(1, 'Abhishek', 60000.5, 0, 'O+'),\n",
       " (30, 'Ramu', 30000.0, 1, 'A+'),\n",
       " (40, 'Ramesh', 10000.0, 0, 'B-'),\n",
       " (50, 'Rahul', 50000.0, 1, 'B+'),\n",
       " (60, 'Suresh', 50000.0, 1, 'A+')]"
      ]
     },
     "execution_count": 57,
     "metadata": {},
     "output_type": "execute_result"
    }
   ],
   "source": [
    "show_data(\"employee_data\", my_cur)"
   ]
  },
  {
   "cell_type": "markdown",
   "metadata": {
    "id": "YTR98c16kk_n"
   },
   "source": [
    "#### Drop Column from the table"
   ]
  },
  {
   "cell_type": "code",
   "execution_count": 58,
   "metadata": {
    "id": "0AA_bROPkk_n"
   },
   "outputs": [],
   "source": [
    "my_cur.execute(\"alter table employee_data drop column emp_blood_group\")"
   ]
  },
  {
   "cell_type": "code",
   "execution_count": 59,
   "metadata": {},
   "outputs": [
    {
     "data": {
      "text/plain": [
       "[(1, 'Abhishek', 60000.5, 0),\n",
       " (30, 'Ramu', 30000.0, 1),\n",
       " (40, 'Ramesh', 10000.0, 0),\n",
       " (50, 'Rahul', 50000.0, 1),\n",
       " (60, 'Suresh', 50000.0, 1)]"
      ]
     },
     "execution_count": 59,
     "metadata": {},
     "output_type": "execute_result"
    }
   ],
   "source": [
    "show_data(\"employee_data\", my_cur)"
   ]
  },
  {
   "cell_type": "markdown",
   "metadata": {
    "id": "QhcU-fyCkk_n"
   },
   "source": [
    "#### Add column to the table"
   ]
  },
  {
   "cell_type": "code",
   "execution_count": 60,
   "metadata": {
    "id": "w_HxnVKWkk_n"
   },
   "outputs": [],
   "source": [
    "my_cur.execute(\"alter table employee_data add mobile int\")"
   ]
  },
  {
   "cell_type": "code",
   "execution_count": 61,
   "metadata": {},
   "outputs": [
    {
     "data": {
      "text/plain": [
       "[(1, 'Abhishek', 60000.5, 0, None),\n",
       " (30, 'Ramu', 30000.0, 1, None),\n",
       " (40, 'Ramesh', 10000.0, 0, None),\n",
       " (50, 'Rahul', 50000.0, 1, None),\n",
       " (60, 'Suresh', 50000.0, 1, None)]"
      ]
     },
     "execution_count": 61,
     "metadata": {},
     "output_type": "execute_result"
    }
   ],
   "source": [
    "show_data(\"employee_data\", my_cur)"
   ]
  },
  {
   "cell_type": "code",
   "execution_count": 62,
   "metadata": {},
   "outputs": [],
   "source": [
    "my_cur.execute(\"alter table employee_data drop column mobile\")"
   ]
  },
  {
   "cell_type": "code",
   "execution_count": 63,
   "metadata": {},
   "outputs": [
    {
     "data": {
      "text/plain": [
       "[(1, 'Abhishek', 60000.5, 0),\n",
       " (30, 'Ramu', 30000.0, 1),\n",
       " (40, 'Ramesh', 10000.0, 0),\n",
       " (50, 'Rahul', 50000.0, 1),\n",
       " (60, 'Suresh', 50000.0, 1)]"
      ]
     },
     "execution_count": 63,
     "metadata": {},
     "output_type": "execute_result"
    }
   ],
   "source": [
    "show_data(\"employee_data\", my_cur)"
   ]
  },
  {
   "cell_type": "code",
   "execution_count": 64,
   "metadata": {},
   "outputs": [],
   "source": [
    "my_cur.execute(\"alter table employee_data add mobile int not null\")"
   ]
  },
  {
   "cell_type": "code",
   "execution_count": 65,
   "metadata": {},
   "outputs": [
    {
     "data": {
      "text/plain": [
       "[(1, 'Abhishek', 60000.5, 0, 0),\n",
       " (30, 'Ramu', 30000.0, 1, 0),\n",
       " (40, 'Ramesh', 10000.0, 0, 0),\n",
       " (50, 'Rahul', 50000.0, 1, 0),\n",
       " (60, 'Suresh', 50000.0, 1, 0)]"
      ]
     },
     "execution_count": 65,
     "metadata": {},
     "output_type": "execute_result"
    }
   ],
   "source": [
    "show_data(\"employee_data\", my_cur)"
   ]
  },
  {
   "cell_type": "markdown",
   "metadata": {},
   "source": [
    "### Drop Table"
   ]
  },
  {
   "cell_type": "code",
   "execution_count": 66,
   "metadata": {},
   "outputs": [],
   "source": [
    "my_cur.execute(\"show tables\")"
   ]
  },
  {
   "cell_type": "code",
   "execution_count": 67,
   "metadata": {},
   "outputs": [
    {
     "data": {
      "text/plain": [
       "[('employee_data',), ('employee_data_2',)]"
      ]
     },
     "execution_count": 67,
     "metadata": {},
     "output_type": "execute_result"
    }
   ],
   "source": [
    "my_cur.fetchall()"
   ]
  },
  {
   "cell_type": "code",
   "execution_count": 68,
   "metadata": {},
   "outputs": [],
   "source": [
    "my_cur.execute(\"drop table employee_data_2\")"
   ]
  },
  {
   "cell_type": "code",
   "execution_count": 69,
   "metadata": {},
   "outputs": [
    {
     "data": {
      "text/plain": [
       "[('employee_data',)]"
      ]
     },
     "execution_count": 69,
     "metadata": {},
     "output_type": "execute_result"
    }
   ],
   "source": [
    "my_cur.execute(\"show tables\")\n",
    "my_cur.fetchall()"
   ]
  },
  {
   "cell_type": "markdown",
   "metadata": {
    "id": "WvXY-cOikk_o"
   },
   "source": [
    "#### Drop Database"
   ]
  },
  {
   "cell_type": "code",
   "execution_count": 70,
   "metadata": {
    "id": "_-_vuZ1Jkk_o"
   },
   "outputs": [],
   "source": [
    "my_cur.execute(\"drop database mydb\")"
   ]
  },
  {
   "cell_type": "code",
   "execution_count": 71,
   "metadata": {
    "id": "ZhzXxAHqkk_o"
   },
   "outputs": [
    {
     "data": {
      "text/plain": [
       "[('information_schema',),\n",
       " ('mysql',),\n",
       " ('performance_schema',),\n",
       " ('sakila',),\n",
       " ('sys',),\n",
       " ('world',)]"
      ]
     },
     "execution_count": 71,
     "metadata": {},
     "output_type": "execute_result"
    }
   ],
   "source": [
    "my_cur.execute(\"show databases\")\n",
    "my_cur.fetchall()"
   ]
  },
  {
   "cell_type": "code",
   "execution_count": null,
   "metadata": {},
   "outputs": [],
   "source": [
    "#CRUD -- Create Read Update Delete"
   ]
  }
 ],
 "metadata": {
  "colab": {
   "name": "SQL Database.ipynb",
   "provenance": []
  },
  "kernelspec": {
   "display_name": "Python 3",
   "language": "python",
   "name": "python3"
  },
  "language_info": {
   "codemirror_mode": {
    "name": "ipython",
    "version": 3
   },
   "file_extension": ".py",
   "mimetype": "text/x-python",
   "name": "python",
   "nbconvert_exporter": "python",
   "pygments_lexer": "ipython3",
   "version": "3.7.4"
  }
 },
 "nbformat": 4,
 "nbformat_minor": 1
}
